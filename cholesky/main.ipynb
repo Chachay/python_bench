{
 "cells": [
  {
   "cell_type": "code",
   "execution_count": 1,
   "metadata": {},
   "outputs": [],
   "source": [
    "import numpy as np\n",
    "import warnings\n",
    "warnings.filterwarnings(\"ignore\")"
   ]
  },
  {
   "cell_type": "code",
   "execution_count": 2,
   "metadata": {},
   "outputs": [],
   "source": [
    "def gen_sym_matrix(M):\n",
    "    A = np.random.rand(M, M).astype(np.float64)\n",
    "    return np.matmul(A, A.T)+np.eye(M)"
   ]
  },
  {
   "cell_type": "code",
   "execution_count": 3,
   "metadata": {},
   "outputs": [],
   "source": [
    "np.random.seed(331)\n",
    "A128 =  gen_sym_matrix(128)\n",
    "A256 = gen_sym_matrix(256)\n",
    "A2048 = gen_sym_matrix(2048)"
   ]
  },
  {
   "cell_type": "markdown",
   "metadata": {},
   "source": [
    "## Scipy - LAPACK"
   ]
  },
  {
   "cell_type": "code",
   "execution_count": 4,
   "metadata": {},
   "outputs": [],
   "source": [
    "from scipy.linalg import cholesky"
   ]
  },
  {
   "cell_type": "code",
   "execution_count": 5,
   "metadata": {},
   "outputs": [
    {
     "name": "stdout",
     "output_type": "stream",
     "text": [
      "1. Scipy\n",
      "   128:303 µs ± 46 µs per loop (mean ± std. dev. of 7 runs, 1000 loops each)\n",
      "\n",
      "   256:477 µs ± 20.3 µs per loop (mean ± std. dev. of 7 runs, 1000 loops each)\n",
      "\n",
      "   2048:156 ms ± 11.6 ms per loop (mean ± std. dev. of 7 runs, 10 loops each)\n"
     ]
    }
   ],
   "source": [
    "print(\"1. Scipy\", end='')\n",
    "\n",
    "print(\"\\n   128:\", end='')\n",
    "%timeit l = cholesky(A128, lower=True)\n",
    "\n",
    "print(\"\\n   256:\", end='')\n",
    "%timeit l = cholesky(A256, lower=True)\n",
    "\n",
    "print(\"\\n   2048:\", end='')\n",
    "%timeit l = cholesky(A2048, lower=True)"
   ]
  },
  {
   "cell_type": "markdown",
   "metadata": {},
   "source": [
    "## Native Python\n",
    "[Cholesky decomposition - Rosetta Code](https://rosettacode.org/wiki/Cholesky_decomposition#Python3.X_version_using_extra_Python_idioms)"
   ]
  },
  {
   "cell_type": "code",
   "execution_count": 6,
   "metadata": {},
   "outputs": [],
   "source": [
    "from math import sqrt\n",
    "def cholesky_native_python(A, **kwarg):\n",
    "    M = len(A)\n",
    "    L = [[0.0] * len(A) for _ in range(len(A))]\n",
    "    for i in range(M):\n",
    "        for j in range(0, i+1):\n",
    "            s = sum(L[i][k] * L[j][k] for k in range(j))\n",
    "            if(i==j):\n",
    "                L[i][j] = sqrt(A[i][i] - s)\n",
    "            else:\n",
    "                L[i][j] = (A[i][j] - s)/L[j][j]\n",
    "    return L"
   ]
  },
  {
   "cell_type": "code",
   "execution_count": 7,
   "metadata": {},
   "outputs": [
    {
     "name": "stdout",
     "output_type": "stream",
     "text": [
      "2. Native Python\n",
      "   128:147 ms ± 38.2 ms per loop (mean ± std. dev. of 7 runs, 10 loops each)\n",
      "\n",
      "   256:939 ms ± 27 ms per loop (mean ± std. dev. of 7 runs, 1 loop each)\n"
     ]
    }
   ],
   "source": [
    "print(\"2. Native Python\", end='')\n",
    "\n",
    "print(\"\\n   128:\", end='')\n",
    "A128_list = A128.tolist()\n",
    "%timeit l = cholesky_native_python(A128_list, lower=True)\n",
    "\n",
    "print(\"\\n   256:\", end='')\n",
    "A256_list = A256.tolist()\n",
    "%timeit l = cholesky_native_python(A256_list, lower=True)"
   ]
  },
  {
   "cell_type": "markdown",
   "metadata": {},
   "source": [
    "## Python - Numpy"
   ]
  },
  {
   "cell_type": "code",
   "execution_count": 8,
   "metadata": {},
   "outputs": [],
   "source": [
    "def cholesky_numpy(A, **kwarg):\n",
    "    M = A.shape[0]\n",
    "    L = np.zeros_like(A, dtype=np.float64)\n",
    "\n",
    "    for i in range(M):\n",
    "        for j in range(0, i+1):\n",
    "            s = np.dot(L[i,:j],L[j,:j])\n",
    "            L[i, j] = np.sqrt(A[i,i]-s) if(i==j) else ((A[i,j]-s)/L[j,j])\n",
    "    return L"
   ]
  },
  {
   "cell_type": "code",
   "execution_count": 9,
   "metadata": {},
   "outputs": [
    {
     "name": "stdout",
     "output_type": "stream",
     "text": [
      "3. Python - Numpy\n",
      "   128:65.5 ms ± 16.4 ms per loop (mean ± std. dev. of 7 runs, 10 loops each)\n",
      "\n",
      "   256:215 ms ± 19.9 ms per loop (mean ± std. dev. of 7 runs, 1 loop each)\n"
     ]
    }
   ],
   "source": [
    "print(\"3. Python - Numpy\", end='')\n",
    "\n",
    "print(\"\\n   128:\", end='')\n",
    "%timeit l = cholesky_numpy(A128, lower=True)\n",
    "\n",
    "print(\"\\n   256:\", end='')\n",
    "%timeit l = cholesky_numpy(A256, lower=True)"
   ]
  },
  {
   "cell_type": "markdown",
   "metadata": {},
   "source": [
    "## Python - Numpy - Numba"
   ]
  },
  {
   "cell_type": "code",
   "execution_count": 10,
   "metadata": {},
   "outputs": [],
   "source": [
    "from numba import jit\n",
    "\n",
    "@jit(nopython=True)\n",
    "def cholesky_numpy_numba(A):\n",
    "    M = A.shape[0]\n",
    "    L = np.zeros_like(A, dtype=np.float64)\n",
    "\n",
    "    for i in range(M):\n",
    "        for j in range(0, i+1):\n",
    "            s = np.dot(L[i,:j],L[j,:j])\n",
    "            L[i, j] = np.sqrt(A[i,i]-s) if(i==j) else ((A[i,j]-s)/L[j,j])\n",
    "    return L"
   ]
  },
  {
   "cell_type": "code",
   "execution_count": 11,
   "metadata": {},
   "outputs": [
    {
     "name": "stdout",
     "output_type": "stream",
     "text": [
      "4. Python - Numpy - Numba\n",
      "   128:1.07 ms ± 26.9 µs per loop (mean ± std. dev. of 7 runs, 1 loop each)\n",
      "\n",
      "   256:6.14 ms ± 1.29 ms per loop (mean ± std. dev. of 7 runs, 100 loops each)\n",
      "\n",
      "   2048:1.71 s ± 94.9 ms per loop (mean ± std. dev. of 7 runs, 1 loop each)\n"
     ]
    }
   ],
   "source": [
    "print(\"4. Python - Numpy - Numba\", end='')\n",
    "\n",
    "print(\"\\n   128:\", end='')\n",
    "%timeit l = cholesky_numpy_numba(A128)\n",
    "\n",
    "print(\"\\n   256:\", end='')\n",
    "%timeit l = cholesky_numpy_numba(A256)\n",
    "\n",
    "print(\"\\n   2048:\", end='')\n",
    "%timeit l = cholesky_numpy_numba(A2048)"
   ]
  },
  {
   "cell_type": "markdown",
   "metadata": {},
   "source": [
    "## Cython"
   ]
  },
  {
   "cell_type": "code",
   "execution_count": 12,
   "metadata": {},
   "outputs": [],
   "source": [
    "%load_ext Cython"
   ]
  },
  {
   "cell_type": "code",
   "execution_count": 13,
   "metadata": {},
   "outputs": [],
   "source": [
    "%%cython\n",
    "import numpy as np\n",
    "cimport numpy as np\n",
    "cimport cython\n",
    "\n",
    "ctypedef double DTYPE_t\n",
    "\n",
    "@cython.boundscheck(False)\n",
    "@cython.wraparound(False)\n",
    "def cholesky_numpy_cython(np.ndarray[DTYPE_t, ndim=2]  A):\n",
    "    cdef int i\n",
    "    cdef int j\n",
    "    cdef double s\n",
    "    cdef int M = A.shape[0]\n",
    "    cdef np.ndarray[DTYPE_t, ndim=2] L = np.zeros_like(A, dtype=np.float64)\n",
    "\n",
    "    for i in range(M):\n",
    "        for j in range(0, i+1):\n",
    "            s = np.dot(L[i,:j],L[j,:j])\n",
    "            L[i, j] = (A[i,i]-s)**0.5 if(i==j) else ((A[i,j]-s)/L[j,j])\n",
    "    return L"
   ]
  },
  {
   "cell_type": "code",
   "execution_count": 14,
   "metadata": {},
   "outputs": [
    {
     "name": "stdout",
     "output_type": "stream",
     "text": [
      "5. Python - Numpy - Cython\n",
      "   128:35 ms ± 2.35 ms per loop (mean ± std. dev. of 7 runs, 10 loops each)\n",
      "\n",
      "   256:138 ms ± 6.09 ms per loop (mean ± std. dev. of 7 runs, 10 loops each)\n",
      "\n",
      "   2048:1.81 s ± 245 ms per loop (mean ± std. dev. of 7 runs, 1 loop each)\n"
     ]
    }
   ],
   "source": [
    "print(\"5. Python - Numpy - Cython\", end='')\n",
    "\n",
    "print(\"\\n   128:\", end='')\n",
    "%timeit l = cholesky_numpy_cython(A128)\n",
    "\n",
    "print(\"\\n   256:\", end='')\n",
    "%timeit l = cholesky_numpy_cython(A256)\n",
    "\n",
    "print(\"\\n   2048:\", end='')\n",
    "%timeit l = cholesky_numpy_numba(A2048)"
   ]
  },
  {
   "cell_type": "markdown",
   "metadata": {},
   "source": [
    "## Swig"
   ]
  },
  {
   "cell_type": "code",
   "execution_count": 15,
   "metadata": {},
   "outputs": [],
   "source": [
    "from swig.SwigMod import cholesky_swig"
   ]
  },
  {
   "cell_type": "code",
   "execution_count": 16,
   "metadata": {
    "scrolled": true
   },
   "outputs": [
    {
     "name": "stdout",
     "output_type": "stream",
     "text": [
      "6. CPP - SWIG\n",
      "   128:921 µs ± 13.5 µs per loop (mean ± std. dev. of 7 runs, 1000 loops each)\n",
      "\n",
      "   256:7.85 ms ± 142 µs per loop (mean ± std. dev. of 7 runs, 100 loops each)\n",
      "\n",
      "   2048:4.56 s ± 36.6 ms per loop (mean ± std. dev. of 7 runs, 1 loop each)\n"
     ]
    }
   ],
   "source": [
    "print(\"6. CPP - SWIG\", end='')\n",
    "\n",
    "print(\"\\n   128:\", end='')\n",
    "%timeit l = cholesky_swig(A128)\n",
    "\n",
    "print(\"\\n   256:\", end='')\n",
    "%timeit l = cholesky_swig(A256)\n",
    "\n",
    "print(\"\\n   2048:\", end='')\n",
    "%timeit l = cholesky_swig(A2048)"
   ]
  },
  {
   "cell_type": "markdown",
   "metadata": {},
   "source": [
    "### Swig - Eigen"
   ]
  },
  {
   "cell_type": "code",
   "execution_count": 17,
   "metadata": {},
   "outputs": [],
   "source": [
    "from swig_eigen.swig_eigen_mod import cholesky_swig_eigen"
   ]
  },
  {
   "cell_type": "code",
   "execution_count": 18,
   "metadata": {},
   "outputs": [
    {
     "name": "stdout",
     "output_type": "stream",
     "text": [
      "7. CPP - SWIG - Eigen\n",
      "   128:543 µs ± 63.1 µs per loop (mean ± std. dev. of 7 runs, 1000 loops each)\n",
      "\n",
      "   256:3.01 ms ± 238 µs per loop (mean ± std. dev. of 7 runs, 100 loops each)\n",
      "\n",
      "   2048:893 ms ± 9.87 ms per loop (mean ± std. dev. of 7 runs, 1 loop each)\n"
     ]
    }
   ],
   "source": [
    "print(\"7. CPP - SWIG - Eigen\", end='')\n",
    "\n",
    "print(\"\\n   128:\", end='')\n",
    "%timeit l = cholesky_swig_eigen(A128)\n",
    "\n",
    "print(\"\\n   256:\", end='')\n",
    "%timeit l = cholesky_swig_eigen(A256)\n",
    "\n",
    "print(\"\\n   2048:\", end='')\n",
    "%timeit l = cholesky_swig_eigen(A2048)"
   ]
  },
  {
   "cell_type": "code",
   "execution_count": null,
   "metadata": {},
   "outputs": [],
   "source": []
  }
 ],
 "metadata": {
  "kernelspec": {
   "display_name": "Python 3",
   "language": "python",
   "name": "python3"
  },
  "language_info": {
   "codemirror_mode": {
    "name": "ipython",
    "version": 3
   },
   "file_extension": ".py",
   "mimetype": "text/x-python",
   "name": "python",
   "nbconvert_exporter": "python",
   "pygments_lexer": "ipython3",
   "version": "3.7.6"
  }
 },
 "nbformat": 4,
 "nbformat_minor": 4
}
