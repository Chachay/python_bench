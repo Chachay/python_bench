{
 "cells": [
  {
   "cell_type": "code",
   "execution_count": 1,
   "metadata": {},
   "outputs": [],
   "source": [
    "import numpy as np\n",
    "import warnings\n",
    "warnings.filterwarnings(\"ignore\")"
   ]
  },
  {
   "cell_type": "code",
   "execution_count": 2,
   "metadata": {},
   "outputs": [],
   "source": [
    "l = .8\n",
    "M = 1.\n",
    "m =.1\n",
    "g = 9.8\n",
    "dT = 0.02"
   ]
  },
  {
   "cell_type": "markdown",
   "metadata": {},
   "source": [
    "## Pure Python"
   ]
  },
  {
   "cell_type": "code",
   "execution_count": 3,
   "metadata": {},
   "outputs": [],
   "source": [
    "import math\n",
    "\n",
    "def calc_rhe_pure_python(q):\n",
    "    return [q[2], \n",
    "            q[3], \n",
    "             (g*m*math.sin(2*q[1])/2 + l*m*q[3]**2*math.sin(q[1]))/(M + m*math.sin(q[1])**2),\n",
    "            -(g*(M + m)*math.sin(q[1]) + (l*m*q[3]**2*math.sin(q[1]))*math.cos(q[1]))/(l*(M + m*math.sin(q[1])**2))]\n",
    "\n",
    "def RK4_pure_python(q, dt):\n",
    "    k1 = calc_rhe_pure_python(q)\n",
    "    k2 = calc_rhe_pure_python([e+d*dt/2 for e, d in zip(q, k1)])\n",
    "    k3 = calc_rhe_pure_python([e+d*dt/2 for e, d in zip(q, k2)])\n",
    "    k4 = calc_rhe_pure_python([e+d*dt/2 for e, d in zip(q, k3)])\n",
    "    return [x+dt*(k1x/6+k2x/3+k3x/3+k4x/6) for x, k1x, k2x, k3x, k4x in zip(q, k1, k2, k3, k4)]"
   ]
  },
  {
   "cell_type": "code",
   "execution_count": 4,
   "metadata": {
    "tags": []
   },
   "outputs": [
    {
     "output_type": "stream",
     "name": "stdout",
     "text": "1. Pure Python\n\t:12.5 µs ± 283 ns per loop (mean ± std. dev. of 7 runs, 100000 loops each)\n"
    }
   ],
   "source": [
    "x0 = [0., -math.pi+0.1, 0., 0.]\n",
    "\n",
    "print(\"1. Pure Python\\n\\t:\", end='')\n",
    "%timeit x1 = RK4_pure_python(x0, dT)"
   ]
  },
  {
   "cell_type": "markdown",
   "metadata": {},
   "source": [
    "## Numpy"
   ]
  },
  {
   "cell_type": "code",
   "execution_count": 5,
   "metadata": {},
   "outputs": [],
   "source": [
    "def calc_rhe_numpy(q):\n",
    "    return np.array([q[2], \n",
    "            q[3], \n",
    "             (g*m*np.sin(2*q[1])/2 + l*m*q[3]**2*np.sin(q[1]))/(M + m*np.sin(q[1])**2),\n",
    "            -(g*(M + m)*np.sin(q[1]) + (l*m*q[3]**2*np.sin(q[1]))*np.cos(q[1]))/(l*(M + m*np.sin(q[1])**2))])\n",
    "\n",
    "def RK4_numpy(q, dt):\n",
    "    k1 = calc_rhe_numpy(q)\n",
    "    k2 = calc_rhe_numpy(q+k1*dt/2)\n",
    "    k3 = calc_rhe_numpy(q+k2*dt/2)\n",
    "    k4 = calc_rhe_numpy(q+k3*dt/2)\n",
    "    return q+dt*(k1/6+k2/3+k3/3+k4/6)"
   ]
  },
  {
   "cell_type": "code",
   "execution_count": 6,
   "metadata": {
    "tags": []
   },
   "outputs": [
    {
     "output_type": "stream",
     "name": "stdout",
     "text": "2. Numpy\n\t:66.2 µs ± 1.61 µs per loop (mean ± std. dev. of 7 runs, 10000 loops each)\n"
    }
   ],
   "source": [
    "x0 = np.array([0., -math.pi+0.1, 0., 0.])\n",
    "\n",
    "print(\"2. Numpy\\n\\t:\", end='')\n",
    "%timeit x1 = RK4_numpy(x0, dT)"
   ]
  },
  {
   "cell_type": "markdown",
   "metadata": {},
   "source": [
    "## Numba - Pure python"
   ]
  },
  {
   "cell_type": "code",
   "execution_count": 7,
   "metadata": {},
   "outputs": [],
   "source": [
    "from numba import jit\n",
    "\n",
    "@jit(nopython=True)\n",
    "def calc_rhe_pure_python_numba(q):\n",
    "    return [q[2], \n",
    "            q[3], \n",
    "             (g*m*math.sin(2*q[1])/2 + l*m*q[3]**2*math.sin(q[1]))/(M + m*math.sin(q[1])**2),\n",
    "            -(g*(M + m)*math.sin(q[1]) + (l*m*q[3]**2*math.sin(q[1]))*math.cos(q[1]))/(l*(M + m*math.sin(q[1])**2))]\n",
    "\n",
    "@jit(nopython=True)\n",
    "def RK4_pure_python_numba(q, dt):\n",
    "    k1 = calc_rhe_pure_python_numba(q)\n",
    "    k2 = calc_rhe_pure_python_numba([e+d*dt/2 for e, d in zip(q, k1)])\n",
    "    k3 = calc_rhe_pure_python_numba([e+d*dt/2 for e, d in zip(q, k2)])\n",
    "    k4 = calc_rhe_pure_python_numba([e+d*dt/2 for e, d in zip(q, k3)])\n",
    "    return [x+dt*(k1x/6+k2x/3+k3x/3+k4x/6) for x, k1x, k2x, k3x, k4x in zip(q, k1, k2, k3, k4)]"
   ]
  },
  {
   "cell_type": "code",
   "execution_count": 8,
   "metadata": {
    "tags": []
   },
   "outputs": [
    {
     "output_type": "stream",
     "name": "stdout",
     "text": "3. Numba - Pure Python\n\t:8.82 µs ± 72.3 ns per loop (mean ± std. dev. of 7 runs, 100000 loops each)\n"
    }
   ],
   "source": [
    "x0 = [0., -math.pi+0.1, 0., 0.]\n",
    "\n",
    "# initial call for JIT compiler\n",
    "x1 = RK4_pure_python_numba(x0, dT)\n",
    "\n",
    "print(\"3. Numba - Pure Python\\n\\t:\", end='')\n",
    "%timeit x1 = RK4_pure_python_numba(x0, dT)"
   ]
  },
  {
   "cell_type": "markdown",
   "metadata": {},
   "source": [
    "## Numba - Numpy"
   ]
  },
  {
   "cell_type": "code",
   "execution_count": 9,
   "metadata": {},
   "outputs": [],
   "source": [
    "from numba import jit\n",
    "\n",
    "@jit(nopython=True)\n",
    "def calc_rhe_numpy_numba(q):\n",
    "    return np.array([q[2], \n",
    "            q[3], \n",
    "             (g*m*np.sin(2*q[1])/2 + l*m*q[3]**2*np.sin(q[1]))/(M + m*np.sin(q[1])**2),\n",
    "            -(g*(M + m)*np.sin(q[1]) + (l*m*q[3]**2*np.sin(q[1]))*np.cos(q[1]))/(l*(M + m*np.sin(q[1])**2))])\n",
    "\n",
    "@jit(nopython=True)\n",
    "def RK4_numpy_numba(q, dt):\n",
    "    k1 = calc_rhe_numpy_numba(q)\n",
    "    k2 = calc_rhe_numpy_numba(q+k1*dt/2)\n",
    "    k3 = calc_rhe_numpy_numba(q+k2*dt/2)\n",
    "    k4 = calc_rhe_numpy_numba(q+k3*dt/2)\n",
    "    return q+dt*(k1/6+k2/3+k3/3+k4/6)"
   ]
  },
  {
   "cell_type": "code",
   "execution_count": 10,
   "metadata": {
    "tags": []
   },
   "outputs": [
    {
     "output_type": "stream",
     "name": "stdout",
     "text": "4. Numba Numpy\n\t:1.46 µs ± 22.4 ns per loop (mean ± std. dev. of 7 runs, 1000000 loops each)\n"
    }
   ],
   "source": [
    "x0 = np.array([0., -math.pi+0.1, 0., 0.])\n",
    "\n",
    "# initial call for JIT compiler\n",
    "x1 = RK4_numpy_numba(x0, dT)\n",
    "\n",
    "print(\"4. Numba Numpy\\n\\t:\", end='')\n",
    "%timeit x1 = RK4_numpy_numba(x0, dT)"
   ]
  },
  {
   "cell_type": "markdown",
   "metadata": {},
   "source": [
    "## Cython"
   ]
  },
  {
   "cell_type": "code",
   "execution_count": 11,
   "metadata": {},
   "outputs": [],
   "source": [
    "%load_ext Cython"
   ]
  },
  {
   "cell_type": "code",
   "execution_count": 12,
   "metadata": {
    "tags": []
   },
   "outputs": [],
   "source": [
    "%%cython\n",
    "import numpy as np\n",
    "cimport numpy as np\n",
    "cimport cython\n",
    "\n",
    "ctypedef double DTYPE_t\n",
    "\n",
    "cdef double l = .8\n",
    "cdef double M = 1.\n",
    "cdef double m =.1\n",
    "cdef double g = 9.8\n",
    "cdef double dT = 0.02\n",
    "\n",
    "@cython.boundscheck(False)\n",
    "@cython.wraparound(False)\n",
    "cdef calc_rhe_numpy_cython(np.ndarray[DTYPE_t, ndim=1] q):\n",
    "    return np.array([q[2], \n",
    "            q[3], \n",
    "             (g*m*np.sin(2*q[1])/2 + l*m*q[3]**2*np.sin(q[1]))/(M + m*np.sin(q[1])**2),\n",
    "            -(g*(M + m)*np.sin(q[1]) + (l*m*q[3]**2*np.sin(q[1]))*np.cos(q[1]))/(l*(M + m*np.sin(q[1])**2))])\n",
    "\n",
    "@cython.boundscheck(False)\n",
    "@cython.wraparound(False)\n",
    "def RK4_numpy_cython(np.ndarray[DTYPE_t, ndim=1] q, double dt):\n",
    "    cdef np.ndarray[DTYPE_t, ndim=1] k1\n",
    "    cdef np.ndarray[DTYPE_t, ndim=1] k2\n",
    "    cdef np.ndarray[DTYPE_t, ndim=1] k3\n",
    "    cdef np.ndarray[DTYPE_t, ndim=1] k4\n",
    "\n",
    "    k1 = calc_rhe_numpy_cython(q)\n",
    "    k2 = calc_rhe_numpy_cython(q+k1*dt/2)\n",
    "    k3 = calc_rhe_numpy_cython(q+k2*dt/2)\n",
    "    k4 = calc_rhe_numpy_cython(q+k3*dt/2)\n",
    "    return q+dt*(k1/6+k2/3+k3/3+k4/6)"
   ]
  },
  {
   "cell_type": "code",
   "execution_count": 13,
   "metadata": {
    "tags": []
   },
   "outputs": [
    {
     "output_type": "stream",
     "name": "stdout",
     "text": "6. Cython - Numpy\n\t:52 µs ± 693 ns per loop (mean ± std. dev. of 7 runs, 10000 loops each)\n"
    }
   ],
   "source": [
    "x0 = np.array([0., -math.pi+0.1, 0., 0.])\n",
    "\n",
    "print(\"6. Cython - Numpy\\n\\t:\", end='')\n",
    "%timeit x1 = RK4_numpy_cython(x0, dT)"
   ]
  },
  {
   "cell_type": "markdown",
   "metadata": {},
   "source": [
    "## Sympy"
   ]
  },
  {
   "cell_type": "code",
   "execution_count": 14,
   "metadata": {},
   "outputs": [],
   "source": [
    " import sympy as sy\n",
    " def gen_rhe_sympy():\n",
    "        q  = sy.symbols('q:{0}'.format(4))\n",
    "        qd = q[2:4]\n",
    "        \n",
    "        I = sy.Matrix([[1, 0, 0, 0], \n",
    "                      [0, 1, 0, 0], \n",
    "                      [0, 0, M + m, l*m*sy.cos(q[1])], \n",
    "                      [0, 0, l*m*sy.cos(q[1]), l**2*m]])\n",
    "        f = sy.Matrix([\n",
    "                       qd[0], \n",
    "                       qd[1],\n",
    "                       l*m*sy.sin(q[1])*qd[1]**2,\n",
    "                      -g*l*m*sy.sin(q[1])])\n",
    "        return sy.lambdify([q], sy.simplify(I.inv()*f))\n",
    "\n",
    "calc_rhe_sympy = gen_rhe_sympy()\n",
    "\n",
    "def RK4_sympy(q, dt):\n",
    "    k1 = calc_rhe_sympy(q)\n",
    "    k2 = calc_rhe_sympy(q+k1*dt/2)\n",
    "    k3 = calc_rhe_sympy(q+k2*dt/2)\n",
    "    k4 = calc_rhe_sympy(q+k3*dt/2)\n",
    "    return q+dt*(k1/6+k2/3+k3/3+k4/6)"
   ]
  },
  {
   "cell_type": "code",
   "execution_count": 15,
   "metadata": {
    "tags": []
   },
   "outputs": [
    {
     "output_type": "stream",
     "name": "stdout",
     "text": "7. Sympy - Numpy\n\t:97.3 µs ± 1.29 µs per loop (mean ± std. dev. of 7 runs, 10000 loops each)\n"
    }
   ],
   "source": [
    "x0 = np.array([0., -math.pi+0.1, 0., 0.])\n",
    "\n",
    "print(\"7. Sympy - Numpy\\n\\t:\", end='')\n",
    "%timeit x1 = RK4_sympy(x0, dT)"
   ]
  },
  {
   "cell_type": "markdown",
   "metadata": {},
   "source": [
    "## Eigen - Swig\n",
    "```\n",
    "python setup.py build_ext --inplace\n",
    "```"
   ]
  },
  {
   "cell_type": "code",
   "execution_count": 16,
   "metadata": {},
   "outputs": [],
   "source": [
    "from swig_eigen.swig_eigen_mod import RK4_eigen"
   ]
  },
  {
   "cell_type": "code",
   "execution_count": 17,
   "metadata": {
    "tags": []
   },
   "outputs": [
    {
     "output_type": "stream",
     "name": "stdout",
     "text": "8. Swig -Eigen\n\t:1.89 µs ± 15.4 ns per loop (mean ± std. dev. of 7 runs, 1000000 loops each)\n"
    }
   ],
   "source": [
    "x0 = np.array([0., -math.pi+0.1, 0., 0.])\n",
    "\n",
    "print(\"8. Swig -Eigen\\n\\t:\", end='')\n",
    "%timeit x1 = RK4_eigen(x0, dT)"
   ]
  }
 ],
 "metadata": {
  "language_info": {
   "codemirror_mode": {
    "name": "ipython",
    "version": 3
   },
   "file_extension": ".py",
   "mimetype": "text/x-python",
   "name": "python",
   "nbconvert_exporter": "python",
   "pygments_lexer": "ipython3",
   "version": "3.7.6-final"
  },
  "orig_nbformat": 2,
  "kernelspec": {
   "name": "python3",
   "display_name": "Python 3"
  }
 },
 "nbformat": 4,
 "nbformat_minor": 2
}